{
 "cells": [
  {
   "cell_type": "code",
   "id": "initial_id",
   "metadata": {
    "collapsed": true,
    "ExecuteTime": {
     "end_time": "2024-10-01T21:19:34.898618Z",
     "start_time": "2024-10-01T21:19:33.908469Z"
    }
   },
   "source": [
    "import os\n",
    "import pandas as pd\n",
    "\n",
    "# Ruta base del dataset\n",
    "base_path = '/Volumes/m2/Memoria/Code/PMM/BeningMalignant_Masses-Preprocessing/BeningMalignant_Masses'\n",
    "# Ruta de salida para el CSV\n",
    "output_csv = '/Volumes/m2/Memoria/Code/PMM/BeningMalignant_Masses-Preprocessing/csv/BeningMalignant_Masses.csv'\n",
    "\n",
    "# Listas para almacenar los datos\n",
    "image_names = []\n",
    "dataset_names = []\n",
    "splits = []\n",
    "\n",
    "# Función para obtener los datos del dataset\n",
    "def process_dataset(base_path):\n",
    "    for root, dirs, files in os.walk(base_path):\n",
    "        # Omitir la carpeta 'INbreast+MIAS+DDSM Dataset'\n",
    "        if 'INbreast+MIAS+DDSM Dataset' in root:\n",
    "            continue\n",
    "\n",
    "        # Determinar el tipo de split según la carpeta\n",
    "        if 'Benign Masses' in root:\n",
    "            split = 'Benign Masses'\n",
    "        elif 'Malignant Masses' in root:\n",
    "            split = 'Malignant Masses'\n",
    "        else:\n",
    "            continue\n",
    "        \n",
    "        # Determinar el nombre del dataset\n",
    "        if 'DDSM Dataset' in root:\n",
    "            dataset_name = 'DDSM Dataset'\n",
    "        elif 'INbreast Dataset' in root:\n",
    "            dataset_name = 'INbreast Dataset'\n",
    "        elif 'MIAS Dataset' in root:\n",
    "            dataset_name = 'MIAS Dataset'\n",
    "        else:\n",
    "            continue\n",
    "\n",
    "        # Procesar los archivos PNG\n",
    "        for file in files:\n",
    "            if file.endswith('.png'):\n",
    "                image_names.append(file)\n",
    "                dataset_names.append(dataset_name)\n",
    "                splits.append(split)\n",
    "\n",
    "# Procesar el dataset\n",
    "process_dataset(base_path)\n",
    "\n",
    "# Crear un DataFrame con los resultados\n",
    "df = pd.DataFrame({\n",
    "    'image_name': image_names,\n",
    "    'dataset': dataset_names,\n",
    "    'split': splits\n",
    "})\n",
    "\n",
    "# Guardar el DataFrame en un archivo CSV en la ruta de salida especificada\n",
    "df.to_csv(output_csv, index=False)\n",
    "\n",
    "print(f\"CSV generado con éxito: {output_csv}\")\n"
   ],
   "outputs": [
    {
     "name": "stdout",
     "output_type": "stream",
     "text": [
      "CSV generado con éxito: /Volumes/m2/Memoria/Code/PMM/BeningMalignant_Masses-Preprocessing/csv/BeningMalignant_Masses.csv\n"
     ]
    }
   ],
   "execution_count": 1
  },
  {
   "metadata": {},
   "cell_type": "code",
   "outputs": [],
   "execution_count": null,
   "source": "",
   "id": "9b02d968c1aaed6b"
  }
 ],
 "metadata": {
  "kernelspec": {
   "display_name": "Python 3",
   "language": "python",
   "name": "python3"
  },
  "language_info": {
   "codemirror_mode": {
    "name": "ipython",
    "version": 2
   },
   "file_extension": ".py",
   "mimetype": "text/x-python",
   "name": "python",
   "nbconvert_exporter": "python",
   "pygments_lexer": "ipython2",
   "version": "2.7.6"
  }
 },
 "nbformat": 4,
 "nbformat_minor": 5
}
