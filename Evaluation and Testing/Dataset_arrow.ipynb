{
 "cells": [
  {
   "metadata": {},
   "cell_type": "markdown",
   "source": "#### Convertir dataset a formato ArrowSplit con librería Datasets",
   "id": "f3748b86ff881821"
  },
  {
   "metadata": {
    "ExecuteTime": {
     "end_time": "2024-10-16T13:30:38.839405Z",
     "start_time": "2024-10-16T13:29:58.967379Z"
    }
   },
   "cell_type": "code",
   "outputs": [
    {
     "data": {
      "text/plain": [
       "Resolving data files:   0%|          | 0/29576 [00:00<?, ?it/s]"
      ],
      "application/vnd.jupyter.widget-view+json": {
       "version_major": 2,
       "version_minor": 0,
       "model_id": "23d4633bdeb54baaaaa0cb2d21e03cfc"
      }
     },
     "metadata": {},
     "output_type": "display_data"
    },
    {
     "data": {
      "text/plain": [
       "Downloading data:   0%|          | 0/29576 [00:00<?, ?files/s]"
      ],
      "application/vnd.jupyter.widget-view+json": {
       "version_major": 2,
       "version_minor": 0,
       "model_id": "daffcac8f15a4fb99aa7e02e10608214"
      }
     },
     "metadata": {},
     "output_type": "display_data"
    },
    {
     "data": {
      "text/plain": [
       "Generating train split: 0 examples [00:00, ? examples/s]"
      ],
      "application/vnd.jupyter.widget-view+json": {
       "version_major": 2,
       "version_minor": 0,
       "model_id": "169cf073d45b41948e613b4d643c9c3b"
      }
     },
     "metadata": {},
     "output_type": "display_data"
    },
    {
     "name": "stdout",
     "output_type": "stream",
     "text": [
      "Clases encontradas: ['Benign Masses', 'Malignant Masses']\n"
     ]
    },
    {
     "data": {
      "text/plain": [
       "Saving the dataset (0/1 shards):   0%|          | 0/23660 [00:00<?, ? examples/s]"
      ],
      "application/vnd.jupyter.widget-view+json": {
       "version_major": 2,
       "version_minor": 0,
       "model_id": "eda1d7a9fd194e13870a0f7e7bcfb830"
      }
     },
     "metadata": {},
     "output_type": "display_data"
    },
    {
     "data": {
      "text/plain": [
       "Saving the dataset (0/1 shards):   0%|          | 0/5916 [00:00<?, ? examples/s]"
      ],
      "application/vnd.jupyter.widget-view+json": {
       "version_major": 2,
       "version_minor": 0,
       "model_id": "13197e615fdd4b68bf15d7ddd17c9fa3"
      }
     },
     "metadata": {},
     "output_type": "display_data"
    },
    {
     "name": "stdout",
     "output_type": "stream",
     "text": [
      "Conjuntos de datos guardados en formato Arrow en: /Volumes/m2/Memoria/Code/PMM/BeningMalignant_Masses-Preprocessing/data/processed/subset_datos/inbreastmiasvinddsm_arrowsplit/\n"
     ]
    }
   ],
   "execution_count": 1,
   "source": [
    "from datasets import load_dataset, DatasetDict\n",
    "from sklearn.model_selection import train_test_split\n",
    "import os\n",
    "\n",
    "# Ruta al conjunto de datos original\n",
    "data_dir = '/Volumes/m2/Memoria/Code/PMM/BeningMalignant_Masses-Preprocessing/data/processed/subset_datos/inbreastmiasvinddsm/'\n",
    "\n",
    "# Verificar que la ruta existe\n",
    "if not os.path.exists(data_dir):\n",
    "    raise FileNotFoundError(f\"La ruta especificada no existe: {data_dir}\")\n",
    "\n",
    "# Cargar el dataset asumiendo que está organizado en subdirectorios por clase\n",
    "# Utilizamos 'imagefolder' que automáticamente infiere las etiquetas a partir de los nombres de las carpetas\n",
    "dataset = load_dataset('imagefolder', data_dir=data_dir)\n",
    "\n",
    "# Verificar las clases encontradas\n",
    "print(\"Clases encontradas:\", dataset['train'].features['label'].names)\n",
    "\n",
    "# Obtener todas las muestras del dataset\n",
    "all_samples = dataset['train']\n",
    "\n",
    "# Obtener los índices y etiquetas para la división\n",
    "labels = all_samples['label']\n",
    "\n",
    "# Realizar la división utilizando sklearn para mantener la proporción de clases\n",
    "train_indices, test_indices = train_test_split(\n",
    "    range(len(all_samples)),\n",
    "    test_size=0.2,\n",
    "    stratify=labels,\n",
    "    random_state=42\n",
    ")\n",
    "\n",
    "# Crear los conjuntos de entrenamiento y prueba\n",
    "train_dataset = all_samples.select(train_indices)\n",
    "test_dataset = all_samples.select(test_indices)\n",
    "\n",
    "# Crear un DatasetDict con los conjuntos divididos\n",
    "split_dataset = DatasetDict({\n",
    "    'train': train_dataset,\n",
    "    'test': test_dataset\n",
    "})\n",
    "\n",
    "# Ruta donde se guardarán los conjuntos divididos\n",
    "output_dir = '/Volumes/m2/Memoria/Code/PMM/BeningMalignant_Masses-Preprocessing/data/processed/subset_datos/inbreastmiasvinddsm_arrowsplit/'\n",
    "\n",
    "# Crear el directorio de salida si no existe\n",
    "os.makedirs(output_dir, exist_ok=True)\n",
    "\n",
    "# Guardar el DatasetDict en el directorio especificado\n",
    "split_dataset.save_to_disk(output_dir)\n",
    "\n",
    "print(f\"Conjuntos de datos guardados en formato Arrow en: {output_dir}\")\n"
   ],
   "id": "d0e059811927cb08"
  },
  {
   "metadata": {},
   "cell_type": "markdown",
   "source": "### Visualiamos las etiquetas guardadas",
   "id": "17cfe3fc88d0e42e"
  },
  {
   "metadata": {
    "ExecuteTime": {
     "end_time": "2024-10-16T13:32:30.197164Z",
     "start_time": "2024-10-16T13:32:28.998294Z"
    }
   },
   "cell_type": "code",
   "source": [
    "from datasets import load_from_disk\n",
    "\n",
    "# Ruta al directorio donde se guardaron los conjuntos divididos\n",
    "output_dir = '/Volumes/m2/Memoria/Code/PMM/BeningMalignant_Masses-Preprocessing/data/processed/subset_datos/inbreastmiasvinddsm_arrowsplit/'\n",
    "\n",
    "# Cargar el conjunto de datos desde el disco\n",
    "loaded_dataset = load_from_disk(output_dir)\n",
    "\n",
    "# Imprimir la estructura general del conjunto de datos\n",
    "print(loaded_dataset)\n",
    "\n",
    "# Acceder y imprimir las etiquetas del conjunto de entrenamiento\n",
    "labels = loaded_dataset['train'].features['label'].names\n",
    "print(\"\\nEtiquetas encontradas en el conjunto de datos:\")\n",
    "for idx, label in enumerate(labels):\n",
    "    print(f\"{idx}: {label}\")\n",
    "\n",
    "# Acceder y imprimir las etiquetas del conjunto de prueba\n",
    "test_labels = loaded_dataset['test'].features['label'].names\n",
    "print(\"\\nEtiquetas encontradas en el conjunto de prueba:\")\n",
    "for idx, label in enumerate(test_labels):\n",
    "    print(f\"{idx}: {label}\")\n",
    "\n",
    "# Obtener todas las etiquetas únicas en todo el conjunto de datos\n",
    "unique_labels = set()\n",
    "for split in loaded_dataset:\n",
    "    labels_split = loaded_dataset[split].unique('label')\n",
    "    unique_labels.update(labels_split)\n",
    "\n",
    "print(\"\\nTodas las etiquetas únicas en el conjunto de datos:\")\n",
    "for label in unique_labels:\n",
    "    print(label)\n",
    "\n",
    "# Inspeccionar una muestra del conjunto de entrenamiento y prueba\n",
    "print(\"\\nMuestra del conjunto de entrenamiento:\")\n",
    "print(loaded_dataset['train'].select([0]))\n",
    "\n",
    "print(\"\\nMuestra del conjunto de prueba:\")\n",
    "print(loaded_dataset['test'].select([0]))\n",
    "\n"
   ],
   "id": "443e564d40b715e",
   "outputs": [
    {
     "name": "stdout",
     "output_type": "stream",
     "text": [
      "DatasetDict({\n",
      "    train: Dataset({\n",
      "        features: ['image', 'label'],\n",
      "        num_rows: 23660\n",
      "    })\n",
      "    test: Dataset({\n",
      "        features: ['image', 'label'],\n",
      "        num_rows: 5916\n",
      "    })\n",
      "})\n",
      "\n",
      "Etiquetas encontradas en el conjunto de datos:\n",
      "0: Benign Masses\n",
      "1: Malignant Masses\n",
      "\n",
      "Etiquetas encontradas en el conjunto de prueba:\n",
      "0: Benign Masses\n",
      "1: Malignant Masses\n",
      "\n",
      "Todas las etiquetas únicas en el conjunto de datos:\n",
      "0\n",
      "1\n",
      "\n",
      "Muestra del conjunto de entrenamiento:\n",
      "Dataset({\n",
      "    features: ['image', 'label'],\n",
      "    num_rows: 1\n",
      "})\n",
      "\n",
      "Muestra del conjunto de prueba:\n",
      "Dataset({\n",
      "    features: ['image', 'label'],\n",
      "    num_rows: 1\n",
      "})\n"
     ]
    }
   ],
   "execution_count": 2
  },
  {
   "metadata": {},
   "cell_type": "code",
   "outputs": [],
   "execution_count": null,
   "source": "",
   "id": "f9170a934cfa8248"
  }
 ],
 "metadata": {
  "kernelspec": {
   "display_name": "Python 3",
   "language": "python",
   "name": "python3"
  },
  "language_info": {
   "codemirror_mode": {
    "name": "ipython",
    "version": 2
   },
   "file_extension": ".py",
   "mimetype": "text/x-python",
   "name": "python",
   "nbconvert_exporter": "python",
   "pygments_lexer": "ipython2",
   "version": "2.7.6"
  }
 },
 "nbformat": 4,
 "nbformat_minor": 5
}
